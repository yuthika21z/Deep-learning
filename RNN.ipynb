{
  "nbformat": 4,
  "nbformat_minor": 0,
  "metadata": {
    "colab": {
      "provenance": [],
      "authorship_tag": "ABX9TyNatvtkdfS3jSlLkHqtwIto",
      "include_colab_link": true
    },
    "kernelspec": {
      "name": "python3",
      "display_name": "Python 3"
    },
    "language_info": {
      "name": "python"
    }
  },
  "cells": [
    {
      "cell_type": "markdown",
      "metadata": {
        "id": "view-in-github",
        "colab_type": "text"
      },
      "source": [
        "<a href=\"https://colab.research.google.com/github/yuthika21z/Deep-learning/blob/main/RNN.ipynb\" target=\"_parent\"><img src=\"https://colab.research.google.com/assets/colab-badge.svg\" alt=\"Open In Colab\"/></a>"
      ]
    },
    {
      "cell_type": "code",
      "source": [
        "pip install torch"
      ],
      "metadata": {
        "colab": {
          "base_uri": "https://localhost:8080/"
        },
        "id": "J1QBglK913Gp",
        "outputId": "b79dcd0c-0d1d-4cc6-99f6-00bbe0fdfb97"
      },
      "execution_count": 1,
      "outputs": [
        {
          "output_type": "stream",
          "name": "stdout",
          "text": [
            "Requirement already satisfied: torch in /usr/local/lib/python3.10/dist-packages (2.3.0+cu121)\n",
            "Requirement already satisfied: filelock in /usr/local/lib/python3.10/dist-packages (from torch) (3.14.0)\n",
            "Requirement already satisfied: typing-extensions>=4.8.0 in /usr/local/lib/python3.10/dist-packages (from torch) (4.11.0)\n",
            "Requirement already satisfied: sympy in /usr/local/lib/python3.10/dist-packages (from torch) (1.12)\n",
            "Requirement already satisfied: networkx in /usr/local/lib/python3.10/dist-packages (from torch) (3.3)\n",
            "Requirement already satisfied: jinja2 in /usr/local/lib/python3.10/dist-packages (from torch) (3.1.4)\n",
            "Requirement already satisfied: fsspec in /usr/local/lib/python3.10/dist-packages (from torch) (2023.6.0)\n",
            "Collecting nvidia-cuda-nvrtc-cu12==12.1.105 (from torch)\n",
            "  Using cached nvidia_cuda_nvrtc_cu12-12.1.105-py3-none-manylinux1_x86_64.whl (23.7 MB)\n",
            "Collecting nvidia-cuda-runtime-cu12==12.1.105 (from torch)\n",
            "  Using cached nvidia_cuda_runtime_cu12-12.1.105-py3-none-manylinux1_x86_64.whl (823 kB)\n",
            "Collecting nvidia-cuda-cupti-cu12==12.1.105 (from torch)\n",
            "  Using cached nvidia_cuda_cupti_cu12-12.1.105-py3-none-manylinux1_x86_64.whl (14.1 MB)\n",
            "Collecting nvidia-cudnn-cu12==8.9.2.26 (from torch)\n",
            "  Using cached nvidia_cudnn_cu12-8.9.2.26-py3-none-manylinux1_x86_64.whl (731.7 MB)\n",
            "Collecting nvidia-cublas-cu12==12.1.3.1 (from torch)\n",
            "  Using cached nvidia_cublas_cu12-12.1.3.1-py3-none-manylinux1_x86_64.whl (410.6 MB)\n",
            "Collecting nvidia-cufft-cu12==11.0.2.54 (from torch)\n",
            "  Using cached nvidia_cufft_cu12-11.0.2.54-py3-none-manylinux1_x86_64.whl (121.6 MB)\n",
            "Collecting nvidia-curand-cu12==10.3.2.106 (from torch)\n",
            "  Using cached nvidia_curand_cu12-10.3.2.106-py3-none-manylinux1_x86_64.whl (56.5 MB)\n",
            "Collecting nvidia-cusolver-cu12==11.4.5.107 (from torch)\n",
            "  Using cached nvidia_cusolver_cu12-11.4.5.107-py3-none-manylinux1_x86_64.whl (124.2 MB)\n",
            "Collecting nvidia-cusparse-cu12==12.1.0.106 (from torch)\n",
            "  Using cached nvidia_cusparse_cu12-12.1.0.106-py3-none-manylinux1_x86_64.whl (196.0 MB)\n",
            "Collecting nvidia-nccl-cu12==2.20.5 (from torch)\n",
            "  Using cached nvidia_nccl_cu12-2.20.5-py3-none-manylinux2014_x86_64.whl (176.2 MB)\n",
            "Collecting nvidia-nvtx-cu12==12.1.105 (from torch)\n",
            "  Using cached nvidia_nvtx_cu12-12.1.105-py3-none-manylinux1_x86_64.whl (99 kB)\n",
            "Requirement already satisfied: triton==2.3.0 in /usr/local/lib/python3.10/dist-packages (from torch) (2.3.0)\n",
            "Collecting nvidia-nvjitlink-cu12 (from nvidia-cusolver-cu12==11.4.5.107->torch)\n",
            "  Downloading nvidia_nvjitlink_cu12-12.5.40-py3-none-manylinux2014_x86_64.whl (21.3 MB)\n",
            "\u001b[2K     \u001b[90m━━━━━━━━━━━━━━━━━━━━━━━━━━━━━━━━━━━━━━━━\u001b[0m \u001b[32m21.3/21.3 MB\u001b[0m \u001b[31m40.2 MB/s\u001b[0m eta \u001b[36m0:00:00\u001b[0m\n",
            "\u001b[?25hRequirement already satisfied: MarkupSafe>=2.0 in /usr/local/lib/python3.10/dist-packages (from jinja2->torch) (2.1.5)\n",
            "Requirement already satisfied: mpmath>=0.19 in /usr/local/lib/python3.10/dist-packages (from sympy->torch) (1.3.0)\n",
            "Installing collected packages: nvidia-nvtx-cu12, nvidia-nvjitlink-cu12, nvidia-nccl-cu12, nvidia-curand-cu12, nvidia-cufft-cu12, nvidia-cuda-runtime-cu12, nvidia-cuda-nvrtc-cu12, nvidia-cuda-cupti-cu12, nvidia-cublas-cu12, nvidia-cusparse-cu12, nvidia-cudnn-cu12, nvidia-cusolver-cu12\n",
            "Successfully installed nvidia-cublas-cu12-12.1.3.1 nvidia-cuda-cupti-cu12-12.1.105 nvidia-cuda-nvrtc-cu12-12.1.105 nvidia-cuda-runtime-cu12-12.1.105 nvidia-cudnn-cu12-8.9.2.26 nvidia-cufft-cu12-11.0.2.54 nvidia-curand-cu12-10.3.2.106 nvidia-cusolver-cu12-11.4.5.107 nvidia-cusparse-cu12-12.1.0.106 nvidia-nccl-cu12-2.20.5 nvidia-nvjitlink-cu12-12.5.40 nvidia-nvtx-cu12-12.1.105\n"
          ]
        }
      ]
    },
    {
      "cell_type": "code",
      "source": [
        "import torch\n",
        "import torch.nn as nn\n",
        "import torch.optim as optim\n",
        "from torch.utils.data import DataLoader, TensorDataset\n",
        "from torch.nn.utils.rnn import pad_sequence # Add padding to sequences\n",
        "# Sample data: Tokenized sentences and corresponding part-of-speech tags\n",
        "# Replace with your own dataset\n",
        "sentences = [\n",
        "[\"The\", \"quick\", \"brown\", \"fox\", \"jumps\", \"over\", \"the\", \"lazy\", \"dog\"],\n",
        "[\"She\", \"sells\", \"seashells\", \"by\", \"the\", \"seashore\"],\n",
        "]\n",
        "tags = [\n",
        "[\"DT\", \"JJ\", \"JJ\", \"NN\", \"VBZ\", \"IN\", \"DT\", \"JJ\", \"NN\"],\n",
        "\n",
        "  [\"PRP\", \"VBZ\", \"NNS\", \"IN\", \"DT\", \"NN\"],\n",
        "]\n",
        "# Create a vocabulary and mapping for words and tags\n",
        "word_to_idx = {word: idx for idx, word in enumerate(set(word for sentence in sentences for word in sentence))}\n",
        "tag_to_idx = {tag: idx for idx, tag in enumerate(set(tag for tag_seq in tags for tag in tag_seq))}\n",
        "# Convert words and tags to numerical indices\n",
        "X = [[word_to_idx[word] for word in sentence] for sentence in sentences]\n",
        "y = [[tag_to_idx[tag] for tag in tag_seq] for tag_seq in tags]\n",
        "# Get the maximum sequence length\n",
        "max_seq_length = max(len(seq) for seq in X)\n",
        "# Pad sequences to the maximum length\n",
        "X_padded = [torch.tensor(seq + [0] * (max_seq_length - len(seq))) for seq in X]\n",
        "y_padded = [torch.tensor(seq + [0] * (max_seq_length - len(seq))) for seq in y]\n",
        "# Convert the padded sequences to tensors\n",
        "X_tensor = torch.stack(X_padded)\n",
        "y_tensor = torch.stack(y_padded)\n",
        "# Hyperparameters\n",
        "embedding_dim = 50\n",
        "hidden_dim = 64\n",
        "vocab_size = len(word_to_idx)\n",
        "tagset_size = len(tag_to_idx)\n",
        "num_epochs = 100\n",
        "learning_rate = 0.01\n",
        "# Create DataLoader for batching\n",
        "dataset = TensorDataset(X_tensor, y_tensor)\n",
        "dataloader = DataLoader(dataset, batch_size=2, shuffle=True)"
      ],
      "metadata": {
        "id": "JfGZ01T42GXi"
      },
      "execution_count": 2,
      "outputs": []
    },
    {
      "cell_type": "code",
      "source": [
        "# Define the RNN model (same as before)\n",
        "class RNNSequenceLabeling(nn.Module):\n",
        "    def __init__(self, vocab_size, embedding_dim, hidden_dim, tagset_size):\n",
        "        super(RNNSequenceLabeling, self).__init__()\n",
        "        self.embedding = nn.Embedding(vocab_size, embedding_dim)\n",
        "        self.rnn = nn.RNN(embedding_dim, hidden_dim, batch_first=True)\n",
        "        self.fc = nn.Linear(hidden_dim, tagset_size)\n",
        "\n",
        "    def forward(self, x):\n",
        "        x = self.embedding(x)\n",
        "        out, _ = self.rnn(x)\n",
        "        out = self.fc(out)\n",
        "        return out\n",
        "# Create DataLoader for batching (same as before)\n",
        "# Initialize and train the RNN model (same as before)\n",
        "model = RNNSequenceLabeling(vocab_size, embedding_dim, hidden_dim, tagset_size)\n",
        "criterion = nn.CrossEntropyLoss()\n",
        "optimizer = optim.SGD(model.parameters(), lr=learning_rate)\n",
        "for epoch in range(num_epochs):\n",
        "    for batch_X, batch_y in dataloader:\n",
        "        optimizer.zero_grad()\n",
        "        outputs = model(batch_X)\n",
        "        loss = criterion(outputs.view(-1, tagset_size), batch_y.view(-1))\n",
        "        loss.backward()\n",
        "        optimizer.step()\n",
        "\n",
        "    if (epoch + 1) % 10 == 0:\n",
        "        print(f'Epoch [{epoch+1}/{num_epochs}], Loss: {loss.item():.4f}')\n",
        "# Test the trained model on a sample sentence (same as before)\n",
        "test_sentence = [\"She\", \"jumps\", \"over\", \"the\", \"lazy\", \"dog\"]\n",
        "test_input = torch.tensor([[word_to_idx[word] for word in test_sentence]])\n",
        "\n",
        "with torch.no_grad():\n",
        "   predicted_tags = model(test_input)\n",
        "   predicted_tags = torch.argmax(predicted_tags, dim=2).squeeze().tolist()\n",
        "# Map numerical tags back to labels\n",
        "idx_to_tag = {idx: tag for tag, idx in tag_to_idx.items()}\n",
        "predicted_tags = [idx_to_tag[idx] for idx in predicted_tags]\n",
        "# Print the result\n",
        "print(\"Test Sentence:\", test_sentence)\n",
        "print(\"Predicted Tags:\", predicted_tags)\n",
        "\n"
      ],
      "metadata": {
        "colab": {
          "base_uri": "https://localhost:8080/"
        },
        "id": "2A_duoCI3QlA",
        "outputId": "7810f355-6996-41a3-8e72-a2509647015b"
      },
      "execution_count": 3,
      "outputs": [
        {
          "output_type": "stream",
          "name": "stdout",
          "text": [
            "Epoch [10/100], Loss: 1.7656\n",
            "Epoch [20/100], Loss: 1.6172\n",
            "Epoch [30/100], Loss: 1.4812\n",
            "Epoch [40/100], Loss: 1.3552\n",
            "Epoch [50/100], Loss: 1.2379\n",
            "Epoch [60/100], Loss: 1.1286\n",
            "Epoch [70/100], Loss: 1.0269\n",
            "Epoch [80/100], Loss: 0.9328\n",
            "Epoch [90/100], Loss: 0.8461\n",
            "Epoch [100/100], Loss: 0.7669\n",
            "Test Sentence: ['She', 'jumps', 'over', 'the', 'lazy', 'dog']\n",
            "Predicted Tags: ['PRP', 'VBZ', 'IN', 'DT', 'JJ', 'NN']\n"
          ]
        }
      ]
    }
  ]
}